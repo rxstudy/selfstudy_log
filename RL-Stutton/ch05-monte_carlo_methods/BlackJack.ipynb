{
 "cells": [
  {
   "cell_type": "markdown",
   "metadata": {},
   "source": [
    "## Attempt to reproduce BlackJack in the text\n",
    "\n",
    "It seems there are two region that remain fuzzy for usable_ace and no usable_ace respectively (I increased the loop to 10x for those regions already). It might take a long time for those regions to converge. But overall it looks correct."
   ]
  },
  {
   "cell_type": "code",
   "execution_count": 174,
   "metadata": {},
   "outputs": [],
   "source": [
    "import numpy as np\n",
    "import matplotlib.pyplot as plt\n",
    "from tqdm import tqdm\n",
    "import itertools\n",
    "import collections\n",
    "import pandas as pd\n",
    "import typing\n",
    "from truth.truth import AssertThat\n",
    "%matplotlib inline\n",
    "rng = np.random.default_rng()"
   ]
  },
  {
   "cell_type": "code",
   "execution_count": 134,
   "metadata": {},
   "outputs": [],
   "source": [
    "CARDS = list(range(1, 10)) + [10] * 4\n",
    "\n",
    "class Hand:\n",
    "    def __init__(self, usable_ace, hand_sum):\n",
    "        self.usable_ace = usable_ace\n",
    "        self.sum = hand_sum\n",
    "\n",
    "    def hit(self, card):\n",
    "        self.sum += card\n",
    "        if card == 1 and self.sum + 10 <= 21:\n",
    "                self.sum += 10\n",
    "                self.usable_ace = True\n",
    "        \n",
    "        if self.sum > 21 and self.usable_ace:\n",
    "            self.sum -= 10\n",
    "            self.usable_ace = False\n",
    "        return self\n",
    "    \n",
    "    def usable_ace(self):\n",
    "        return self.usable_ace"
   ]
  },
  {
   "cell_type": "code",
   "execution_count": 135,
   "metadata": {},
   "outputs": [],
   "source": [
    "# 2 aces -> 11 + 1 points \n",
    "test_hand = Hand(True, 12)\n",
    "# hit 10\n",
    "test_hand.hit(10)\n",
    "assert test_hand.sum == 12\n",
    "\n",
    "# 2 aces\n",
    "test_hand = Hand(False, 12)\n",
    "test_hand.hit(10)\n",
    "assert test_hand.sum == 22\n"
   ]
  },
  {
   "cell_type": "code",
   "execution_count": 266,
   "metadata": {},
   "outputs": [],
   "source": [
    "GameState = typing.NamedTuple(\"GameState\", [(\"player_sum\", int), (\"dealer_showing\", int), (\"usable_ace\", int)])\n",
    "\n",
    "class BlackJack:\n",
    "    def initialize(self, player_sum, player_usable_ace, dealer_showing):\n",
    "        self.player_hand = Hand(player_usable_ace and player_sum >= 11, player_sum)\n",
    "        self.dealer_hand = Hand(dealer_showing == 1, dealer_showing if dealer_showing != 1 else 11)\n",
    "        self.dealer_showing = dealer_showing\n",
    "        self.game_ended = 0\n",
    "        \n",
    "    # dealer only has the showing card in initialize, keep drawing until dealer has over 12 points\n",
    "    def dealer_card_fill(self):\n",
    "        while self.dealer_hand.sum < 12:\n",
    "            self.dealer_hand.hit(self.draw())\n",
    "        \n",
    "    def draw(self):\n",
    "        return rng.choice(CARDS, replace=True)\n",
    "    \n",
    "    def get_observation(self):\n",
    "        return (GameState(player_sum=self.player_hand.sum,\n",
    "                          dealer_showing=self.dealer_showing,\n",
    "                          usable_ace=int(self.player_hand.usable_ace)), self.game_ended)\n",
    "    \n",
    "    def apply_action(self, hit):\n",
    "        if hit:\n",
    "            self.player_hand.hit(self.draw())\n",
    "        \n",
    "        dealer_hit = False\n",
    "        if self.dealer_hand.sum < 17:\n",
    "            dealer_hit = True\n",
    "            self.dealer_hand.hit(self.draw())\n",
    "        \n",
    "        if (not dealer_hit and not hit) or (self.player_hand.sum >= 21 or self.dealer_hand.sum >= 21):\n",
    "            reward = self.calc_result()\n",
    "            self.game_ended = 1\n",
    "            return reward\n",
    "        \n",
    "        return 0\n",
    "    \n",
    "    def calc_result(self):\n",
    "        if self.player_hand.sum > 21:\n",
    "            if self.dealer_hand.sum > 21:\n",
    "                return 0\n",
    "            else:\n",
    "                return -1\n",
    "        elif self.player_hand.sum == 21:\n",
    "            if self.dealer_hand.sum == 21:\n",
    "                return 0\n",
    "            else:\n",
    "                return 1\n",
    "        # player sum < 21\n",
    "        else:\n",
    "            if self.dealer_hand.sum > 21:\n",
    "                return 1\n",
    "            else:\n",
    "                if self.dealer_hand.sum > self.player_hand.sum:\n",
    "                    return -1\n",
    "                elif self.dealer_hand.sum == self.player_hand.sum:\n",
    "                    return 0\n",
    "                else:\n",
    "                    return 1\n",
    "        \n",
    "        "
   ]
  },
  {
   "cell_type": "code",
   "execution_count": 316,
   "metadata": {},
   "outputs": [],
   "source": [
    "def stub_draw(test_deck):\n",
    "    return lambda: test_deck.pop(0)\n",
    "\n",
    "# Test 1: Player hand: A 10 ,   Dealer hand: 5 9\n",
    "bj = BlackJack()\n",
    "bj.initialize(21, True, 5)\n",
    "bj.draw = stub_draw([9, 7, 3])\n",
    "bj.dealer_card_fill()\n",
    "AssertThat(bj.get_observation()).IsEqualTo((GameState(21, 5, True), False))\n",
    "# Player doesn't hit, dealer < 17 should hit and get 7\n",
    "reward = bj.apply_action(False)\n",
    "AssertThat(bj.get_observation()).IsEqualTo((GameState(21, 5, True), True))\n",
    "assert reward == 0\n",
    "\n",
    "# Test 2\n",
    "bj = BlackJack()\n",
    "bj.initialize(21, True, 5)\n",
    "bj.player_hand.sum,  bj.dealer_hand.sum = 20, 21\n",
    "assert bj.calc_result() == -1\n",
    "bj.player_hand.sum,  bj.dealer_hand.sum = 23, 21\n",
    "assert bj.calc_result() == -1\n",
    "bj.player_hand.sum,  bj.dealer_hand.sum = 23, 15\n",
    "assert bj.calc_result() == -1\n",
    "bj.player_hand.sum,  bj.dealer_hand.sum = 1, 2\n",
    "assert bj.calc_result() == -1\n",
    "bj.player_hand.sum,  bj.dealer_hand.sum = 2, 1\n",
    "assert bj.calc_result() == 1\n",
    "bj.player_hand.sum,  bj.dealer_hand.sum = 15, 23\n",
    "assert bj.calc_result() == 1\n",
    "bj.player_hand.sum,  bj.dealer_hand.sum = 21, 15\n",
    "assert bj.calc_result() == 1\n",
    "bj.player_hand.sum,  bj.dealer_hand.sum = 21, 23\n",
    "assert bj.calc_result() == 1\n",
    "bj.player_hand.sum,  bj.dealer_hand.sum = 22, 22\n",
    "assert bj.calc_result() == 0\n",
    "bj.player_hand.sum,  bj.dealer_hand.sum = 15, 15\n",
    "assert bj.calc_result() == 0\n",
    "bj.player_hand.sum,  bj.dealer_hand.sum = 21, 21\n",
    "assert bj.calc_result() == 0\n",
    "\n",
    "# Test 3\n",
    "# Player hand: A, 7,  Dealer hand: A, 8\n",
    "bj.initialize(18, True, 1)\n",
    "assert bj.dealer_hand.usable_ace == 1\n",
    "bj.draw = stub_draw([8, 7, 5])\n",
    "bj.dealer_card_fill()\n",
    "AssertThat(bj.get_observation()).IsEqualTo((GameState(18, 1, True), False))\n",
    "# Player should hit,  get 11 + 7 + 7 = 25 (use ace) -> 15 ,  Dealer doesn't hit\n",
    "reward = bj.apply_action(True)\n",
    "assert reward == 0\n",
    "AssertThat(bj.get_observation()).IsEqualTo((GameState(15, 1, False), False))\n",
    "assert bj.calc_result() == -1  # will lose at this point 15 < 19\n",
    "# Player hit to get to 20,  Dealer won't hit , staying at 19\n",
    "reward = bj.apply_action(True)\n",
    "assert reward == 0\n",
    "AssertThat(bj.get_observation()).IsEqualTo((GameState(20, 1, False), False))\n",
    "reward = bj.apply_action(False)\n",
    "assert reward == 1\n",
    "AssertThat(bj.get_observation()).IsEqualTo((GameState(20, 1, False), True))\n",
    "\n",
    "# Test 4\n",
    "# Player hand: A, 7,  Dealer hand: A, 2\n",
    "bj.initialize(18, True, 1)\n",
    "bj.draw = stub_draw([2, 7, 5])\n",
    "bj.dealer_card_fill()\n",
    "reward = bj.apply_action(True)\n",
    "assert reward == 0\n",
    "AssertThat(bj.get_observation()).IsEqualTo((GameState(15, 1, False), False))\n",
    "assert bj.dealer_hand.usable_ace == True\n",
    "assert bj.dealer_hand.sum == 18\n",
    "\n",
    "# Test 5\n",
    "# Player hand: A, 7,  Dealer hand: A, 2\n",
    "bj.initialize(18, True, 1)\n",
    "bj.draw = stub_draw([2, 7, 10])\n",
    "bj.dealer_card_fill()\n",
    "reward = bj.apply_action(True)\n",
    "assert reward == 0\n",
    "AssertThat(bj.get_observation()).IsEqualTo((GameState(15, 1, False), False))\n",
    "assert bj.dealer_hand.usable_ace == False\n",
    "assert bj.dealer_hand.sum == 13"
   ]
  },
  {
   "cell_type": "code",
   "execution_count": 307,
   "metadata": {},
   "outputs": [],
   "source": [
    "### Monte Carlo with Exploring start and every visit update\n",
    "def mces_every_visit(env, epochs, psum_range=range(12, 22), dcard_range=range(1, 11)):\n",
    "    err_bound_per_iter = []\n",
    "    N = collections.defaultdict(int) # counts the # of times (s,a) is visited.\n",
    "    q = np.zeros((22, 12, 2, 2)) # player_sum, dealer_showing, usable_ace, hit/stick\n",
    "    pi = np.zeros((22, 12, 2), dtype=np.uint) # (player_sum, dealer_showing, ace_usable) -> hit/stick\n",
    "    \n",
    "    for _ in tqdm(range(epochs)):\n",
    "        update_err_bound = -1\n",
    "        for (player_sum, usable_ace, dealer_showing, init_action) in itertools.product(\n",
    "                psum_range, [0, 1], dcard_range, [0, 1]):\n",
    "\n",
    "            repeat = 1\n",
    "            # run more times in region with more uncertainty\n",
    "            if usable_ace == 0 and player_sum >=12 and player_sum <= 16 and dealer_showing >= 2 and dealer_showing <= 6:\n",
    "                repeat = 10\n",
    "            elif usable_ace == 1 and (player_sum == 18 or player_sum == 17):\n",
    "                repeat = 10\n",
    "            for _ in range(repeat):\n",
    "                # Generate episode based on starting states\n",
    "                # For each episode\n",
    "                ep = []\n",
    "                env.initialize(player_sum=player_sum, player_usable_ace=usable_ace, dealer_showing=dealer_showing)\n",
    "                env.dealer_card_fill()\n",
    "                s, game_ended = env.get_observation()\n",
    "\n",
    "                r = env.apply_action(init_action)\n",
    "                ep.append((s, init_action, r))\n",
    "\n",
    "                # start following policy after init_action is performed.\n",
    "                s, game_ended = env.get_observation()\n",
    "                while not game_ended:\n",
    "                    a = pi[s.player_sum, s.dealer_showing, s.usable_ace]\n",
    "                    r = env.apply_action(a)\n",
    "                    ep.append((s, a, r))\n",
    "                    s, game_ended = env.get_observation()\n",
    "\n",
    "                # Update q(s,a)\n",
    "                g = 0.0\n",
    "                while len(ep) > 0:\n",
    "                    s, a, r = ep.pop()\n",
    "                    g += r \n",
    "                    N[(s,a)] += 1\n",
    "                    gradient = (g - q[s.player_sum, s.dealer_showing, s.usable_ace, a])/ N[(s,a)]\n",
    "                    q[s.player_sum, s.dealer_showing, s.usable_ace, a] += gradient #  q = q + 1/(n+1) (return - q)\n",
    "                    pi[s.player_sum, s.dealer_showing, s.usable_ace] = np.argmax(q[s.player_sum, s.dealer_showing, s.usable_ace, :])\n",
    "\n",
    "                    # logging\n",
    "                    update_err_bound = max(abs(gradient), update_err_bound)\n",
    "                \n",
    "        err_bound_per_iter.append(update_err_bound)\n",
    "        \n",
    "    return (q, pi, err_bound_per_iter)\n"
   ]
  },
  {
   "cell_type": "code",
   "execution_count": 308,
   "metadata": {},
   "outputs": [
    {
     "name": "stderr",
     "output_type": "stream",
     "text": [
      "100%|██████████████████████████████████████████████████████████████████████████████| 2000/2000 [03:03<00:00, 10.91it/s]\n"
     ]
    }
   ],
   "source": [
    "env = BlackJack()\n",
    "q, pi, errs = mces_every_visit(env, 2000)"
   ]
  },
  {
   "cell_type": "code",
   "execution_count": 309,
   "metadata": {
    "scrolled": true
   },
   "outputs": [
    {
     "data": {
      "text/plain": [
       "Text(0.5, 0, 'Epoch')"
      ]
     },
     "execution_count": 309,
     "metadata": {},
     "output_type": "execute_result"
    },
    {
     "data": {
      "image/png": "[encoded data removed]",
      "text/plain": [
       "<Figure size 432x288 with 1 Axes>"
      ]
     },
     "metadata": {
      "needs_background": "light"
     },
     "output_type": "display_data"
    }
   ],
   "source": [
    "plt.plot(np.log(errs))\n",
    "plt.title(\"Log Q Loss\")\n",
    "plt.ylabel(\"Log Error Bound\")\n",
    "plt.xlabel(\"Epoch\")"
   ]
  },
  {
   "cell_type": "code",
   "execution_count": 310,
   "metadata": {},
   "outputs": [],
   "source": [
    "def plot_policy(policy_matrix, ax, title):\n",
    "    ax.matshow(policy_matrix)\n",
    "    ax.invert_yaxis()\n",
    "    ax.xaxis.set_ticks_position(\"bottom\")\n",
    "    ax.set_xticks(range(1,11))\n",
    "    ax.set_yticks(range(12,22))\n",
    "    ax.set_xlim((1,10))\n",
    "    ax.set_ylim((12,21))\n",
    "    ax.set_xlabel(\"Revealed Dealer's Card\")\n",
    "    ax.set_ylabel(\"Player Sum\")\n",
    "    ax.set_title(title)"
   ]
  },
  {
   "cell_type": "code",
   "execution_count": 311,
   "metadata": {},
   "outputs": [
    {
     "data": {
      "image/png": "[encoded data removed]",
      "text/plain": [
       "<Figure size 432x288 with 2 Axes>"
      ]
     },
     "metadata": {
      "needs_background": "light"
     },
     "output_type": "display_data"
    }
   ],
   "source": [
    "ax = plt.subplot(1, 2, 1)\n",
    "plot_policy(pi[:, :, 0], ax, \"No Usable Ace\")\n",
    "plt.subplots_adjust(right=1.5)\n",
    "ax = plt.subplot(1, 2, 2)\n",
    "plot_policy(pi[:, :, 1], ax, \"Has Usable Ace\")"
   ]
  },
  {
   "cell_type": "code",
   "execution_count": 312,
   "metadata": {},
   "outputs": [
    {
     "data": {
      "image/png": "[encoded data removed]",
      "text/plain": [
       "<Figure size 720x720 with 4 Axes>"
      ]
     },
     "metadata": {
      "needs_background": "light"
     },
     "output_type": "display_data"
    }
   ],
   "source": [
    "f = plt.figure(figsize=(10,10))\n",
    "ax = f.add_subplot(2, 2, 1)\n",
    "plot_policy(q[:, :, 0, 1], ax, \"No Usable Ace Hit Value\")\n",
    "ax = f.add_subplot(2, 2, 2)\n",
    "plot_policy(q[:, :, 1, 1], ax, \"Has Usable Ace Hit Value\")\n",
    "ax = f.add_subplot(2, 2, 3)\n",
    "plot_policy(q[:, :, 0, 0], ax, \"No Usable Ace Stick Value\")\n",
    "ax = f.add_subplot(2, 2, 4)\n",
    "plot_policy(q[:, :, 1, 0], ax, \"Has Usable Ace Stick Value\")"
   ]
  },
  {
   "cell_type": "code",
   "execution_count": null,
   "metadata": {},
   "outputs": [],
   "source": []
  }
 ],
 "metadata": {
  "kernelspec": {
   "display_name": "Python 3 (ipykernel)",
   "language": "python",
   "name": "python3"
  },
  "language_info": {
   "codemirror_mode": {
    "name": "ipython",
    "version": 3
   },
   "file_extension": ".py",
   "mimetype": "text/x-python",
   "name": "python",
   "nbconvert_exporter": "python",
   "pygments_lexer": "ipython3",
   "version": "3.8.5"
  }
 },
 "nbformat": 4,
 "nbformat_minor": 4
}
