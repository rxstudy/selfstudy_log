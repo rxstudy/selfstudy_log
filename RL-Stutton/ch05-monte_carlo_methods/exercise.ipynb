{
 "cells": [
  {
   "cell_type": "markdown",
   "metadata": {},
   "source": [
    "## Exercise 5.1\n",
    "The last row jumps up to maximum because it is best scenario to win for the player where the player has 21 points. The second last row (excluding the left side) is also high becaues the player has 20 and the dealer showing card that is 2 or above meaning that there is less chance for the dealer to reach 20 or 21. The value dips on the left side because the dealer has an ace which means that the dealer could use the ace to reach 21 much easier since there are 4 type of cards with value of 10. It is easier to draw from 4/13 suits."
   ]
  },
  {
   "cell_type": "markdown",
   "metadata": {},
   "source": [
    "## Exercise 5.2\n",
    "Every-visit MC and first-visit MC should be about the same on black jack, since the state is the player sum and usable ace. The player sum is always increasing so it doesn't repeat during an episode. "
   ]
  },
  {
   "cell_type": "markdown",
   "metadata": {},
   "source": [
    "## Exercise 5.3\n",
    "\n",
    "Same as the backup diagram of $v_{\\pi}$ except the starting node is $(s,a)$"
   ]
  },
  {
   "cell_type": "markdown",
   "metadata": {},
   "source": [
    "## Exercise 5.4\n",
    "Modify exploration state to use a 1/N step size update (average).\n",
    "```\n",
    "Initialize:\n",
    "    pi(s) = random action\n",
    "    q(s,a) = random real for each action and state\n",
    "    N(s,a) = # of first visit to the state-action pair (s,a)\n",
    "\n",
    "Loop forever \n",
    "    Choose (s0, a0) from Set of all starting state with non-zero probability.\n",
    "    Follow pi to get a trajectory: s0, a0, r1, s1, a1, r2, ....   rT \n",
    "    G = 0\n",
    "    for t from T to 0:\n",
    "      G += gamma * r_t\n",
    "      if (s_t,a_t) is first visit in this episode:\n",
    "        N(s_t, a_t) += 1\n",
    "        q(s_t,a_t) += 1 / N(s_t, a_t) * [G - q(s_t, a_t)]\n",
    "        pi(s) = argmax_a q(s_t, a)\n",
    "```"
   ]
  },
  {
   "cell_type": "code",
   "execution_count": null,
   "metadata": {},
   "outputs": [],
   "source": []
  },
  {
   "cell_type": "code",
   "execution_count": null,
   "metadata": {},
   "outputs": [],
   "source": []
  }
 ],
 "metadata": {
  "kernelspec": {
   "display_name": "Python 3 (ipykernel)",
   "language": "python",
   "name": "python3"
  },
  "language_info": {
   "codemirror_mode": {
    "name": "ipython",
    "version": 3
   },
   "file_extension": ".py",
   "mimetype": "text/x-python",
   "name": "python",
   "nbconvert_exporter": "python",
   "pygments_lexer": "ipython3",
   "version": "3.8.5"
  }
 },
 "nbformat": 4,
 "nbformat_minor": 4
}
