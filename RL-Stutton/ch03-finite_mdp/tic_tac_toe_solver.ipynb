{
 "cells": [
  {
   "cell_type": "markdown",
   "metadata": {},
   "source": [
    "### Tic Tac Toe Solver\n",
    "We wil use bellman's equation to compute the $v_*(s)$ where $s$ is the current board."
   ]
  },
  {
   "cell_type": "code",
   "execution_count": 2,
   "metadata": {},
   "outputs": [],
   "source": [
    "import numpy as np\n",
    "from tqdm import tqdm\n",
    "import matplotlib.pyplot as plt"
   ]
  },
  {
   "cell_type": "code",
   "execution_count": null,
   "metadata": {},
   "outputs": [],
   "source": [
    "BINARY_WEIGHTS = np.array([1 << i for i in range(9)])\n",
    "\n",
    "class TicTacToe:\n",
    "    def __init__(self):\n",
    "        self._s = np.zeros((9,))\n",
    "        self._current_symbol = 1\n",
    "        self._other_symbol = 2\n",
    "    \n",
    "    def place(self, a):\n",
    "        self._s[3 * a[0] + a[1]] = self._current_symbol\n",
    "        if self.game_won():\n",
    "            self._swap_symbol()\n",
    "            return [self._s, 1, Done]\n",
    "        else:\n",
    "            self._swap_symbol()\n",
    "            return 0\n",
    "    \n",
    "    def game_won(self):\n",
    "        if self._s[0] == self._s[1] == self._s[2]\n",
    "    \n",
    "    def state_hash_code(self):\n",
    "        return np.dot(BINARY_WEIGHTS, self._s)\n",
    "    \n",
    "    def _swap_symbol(self):\n",
    "        tmp = self._current_symbol\n",
    "        self._crrent_symbol = self._other_symbol\n",
    "        self._other_symbol = tmp\n",
    "    \n",
    "\n",
    "class VTable:\n",
    "    def __init__(self):\n",
    "        self._v = {}"
   ]
  }
 ],
 "metadata": {
  "kernelspec": {
   "display_name": "Python 3",
   "language": "python",
   "name": "python3"
  },
  "language_info": {
   "codemirror_mode": {
    "name": "ipython",
    "version": 3
   },
   "file_extension": ".py",
   "mimetype": "text/x-python",
   "name": "python",
   "nbconvert_exporter": "python",
   "pygments_lexer": "ipython3",
   "version": "3.8.5"
  }
 },
 "nbformat": 4,
 "nbformat_minor": 4
}
