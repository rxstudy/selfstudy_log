{
 "cells": [
  {
   "cell_type": "markdown",
   "metadata": {},
   "source": [
    "### Grid World Solver\n",
    "\n",
    "We solve the grid world using Bellman Optimality Equations in a recursive fashion. Initial value function will converge to the optimal value function after enough recursions.\n"
   ]
  },
  {
   "cell_type": "code",
   "execution_count": 35,
   "metadata": {},
   "outputs": [],
   "source": [
    "import numpy as np\n",
    "from tqdm import tqdm\n",
    "import matplotlib.pyplot as plt\n",
    "import pandas"
   ]
  },
  {
   "cell_type": "code",
   "execution_count": 21,
   "metadata": {},
   "outputs": [],
   "source": [
    "def v(s, vf):\n",
    "    if s[0] < 0 or s[1] < 0 or s[0] >= 5 or s[1] >= 5:\n",
    "        return 0\n",
    "    else:\n",
    "        return vf[s[0],  s[1]]\n",
    "    \n",
    "def r(s, a):\n",
    "    s_prime = s + a\n",
    "    if s[0] == 0 and s[1] == 1: # A\n",
    "        return 10\n",
    "    elif s[0] == 0 and s[1] == 3: # B\n",
    "        return 5\n",
    "    elif s_prime[0] < 0 or s_prime[0] >= 5 or s_prime[1] < 0 or s_prime[1] >= 5:\n",
    "        return -1\n",
    "    else:\n",
    "        return 0\n",
    "\n",
    "def get_next_state(s, a):\n",
    "    if s[0] == 0 and s[1] == 1: # A\n",
    "        return np.array([4, 1]) # A'\n",
    "    elif s[0] == 0 and s[1] == 3: # B\n",
    "        return np.array([2, 3]) # B'\n",
    "    else:\n",
    "        return s + a\n",
    "    "
   ]
  },
  {
   "cell_type": "code",
   "execution_count": 22,
   "metadata": {},
   "outputs": [],
   "source": [
    "gamma = 0.9\n",
    "UP = np.array([-1, 0])\n",
    "DOWN = np.array([1, 0])\n",
    "LEFT = np.array([0, -1])\n",
    "RIGHT = np.array([0, 1])\n",
    "\n",
    "def bellman_update(v0):\n",
    "    v1 = np.zeros((5,5))\n",
    "    for i in range(5):\n",
    "        for j in range(5):\n",
    "            s = np.array([i, j])\n",
    "            max_val = - np.Inf\n",
    "            for a in [UP, DOWN, LEFT, RIGHT]:\n",
    "                s_prime = get_next_state(s, a)\n",
    "                new_val = r(s, a) + gamma * v(s_prime, v0)\n",
    "                if new_val > max_val:\n",
    "                    max_val = new_val\n",
    "            v1[s[0],s[1]] = max_val\n",
    "    return v1"
   ]
  },
  {
   "cell_type": "code",
   "execution_count": 30,
   "metadata": {},
   "outputs": [
    {
     "name": "stderr",
     "output_type": "stream",
     "text": [
      "100%|██████████████████████████████████████████████████████████████████████████████| 200/200 [00:00<00:00, 1199.14it/s]\n"
     ]
    },
    {
     "data": {
      "text/plain": [
       "[<matplotlib.lines.Line2D at 0x14249378430>]"
      ]
     },
     "execution_count": 30,
     "metadata": {},
     "output_type": "execute_result"
    },
    {
     "data": {
      "image/png": "[encoded data removed]",
      "text/plain": [
       "<Figure size 432x288 with 1 Axes>"
      ]
     },
     "metadata": {
      "needs_background": "light"
     },
     "output_type": "display_data"
    }
   ],
   "source": [
    "# Initialize uniform value function \n",
    "v_current = np.zeros((5,5)) + 1/25\n",
    "error = []\n",
    "for i in tqdm(range(200)):\n",
    "    v_tmp = bellman_update(v_current)\n",
    "    error.append(np.sum(np.absolute(v_tmp - v_current)))\n",
    "    v_current = v_tmp\n",
    "    \n",
    "plt.plot(np.arange(200), error)"
   ]
  },
  {
   "cell_type": "code",
   "execution_count": 36,
   "metadata": {},
   "outputs": [
    {
     "data": {
      "text/html": [
       "<div>\n",
       "<style scoped>\n",
       "    .dataframe tbody tr th:only-of-type {\n",
       "        vertical-align: middle;\n",
       "    }\n",
       "\n",
       "    .dataframe tbody tr th {\n",
       "        vertical-align: top;\n",
       "    }\n",
       "\n",
       "    .dataframe thead th {\n",
       "        text-align: right;\n",
       "    }\n",
       "</style>\n",
       "<table border=\"1\" class=\"dataframe\">\n",
       "  <thead>\n",
       "    <tr style=\"text-align: right;\">\n",
       "      <th></th>\n",
       "      <th>0</th>\n",
       "      <th>1</th>\n",
       "      <th>2</th>\n",
       "      <th>3</th>\n",
       "      <th>4</th>\n",
       "    </tr>\n",
       "  </thead>\n",
       "  <tbody>\n",
       "    <tr>\n",
       "      <th>0</th>\n",
       "      <td>22.0</td>\n",
       "      <td>24.4</td>\n",
       "      <td>22.0</td>\n",
       "      <td>19.4</td>\n",
       "      <td>17.5</td>\n",
       "    </tr>\n",
       "    <tr>\n",
       "      <th>1</th>\n",
       "      <td>19.8</td>\n",
       "      <td>22.0</td>\n",
       "      <td>19.8</td>\n",
       "      <td>17.8</td>\n",
       "      <td>16.0</td>\n",
       "    </tr>\n",
       "    <tr>\n",
       "      <th>2</th>\n",
       "      <td>17.8</td>\n",
       "      <td>19.8</td>\n",
       "      <td>17.8</td>\n",
       "      <td>16.0</td>\n",
       "      <td>14.4</td>\n",
       "    </tr>\n",
       "    <tr>\n",
       "      <th>3</th>\n",
       "      <td>16.0</td>\n",
       "      <td>17.8</td>\n",
       "      <td>16.0</td>\n",
       "      <td>14.4</td>\n",
       "      <td>13.0</td>\n",
       "    </tr>\n",
       "    <tr>\n",
       "      <th>4</th>\n",
       "      <td>14.4</td>\n",
       "      <td>16.0</td>\n",
       "      <td>14.4</td>\n",
       "      <td>13.0</td>\n",
       "      <td>11.7</td>\n",
       "    </tr>\n",
       "  </tbody>\n",
       "</table>\n",
       "</div>"
      ],
      "text/plain": [
       "      0     1     2     3     4\n",
       "0  22.0  24.4  22.0  19.4  17.5\n",
       "1  19.8  22.0  19.8  17.8  16.0\n",
       "2  17.8  19.8  17.8  16.0  14.4\n",
       "3  16.0  17.8  16.0  14.4  13.0\n",
       "4  14.4  16.0  14.4  13.0  11.7"
      ]
     },
     "execution_count": 36,
     "metadata": {},
     "output_type": "execute_result"
    }
   ],
   "source": [
    "pandas.DataFrame(np.round(v_current, 1))"
   ]
  },
  {
   "cell_type": "code",
   "execution_count": null,
   "metadata": {},
   "outputs": [],
   "source": []
  }
 ],
 "metadata": {
  "kernelspec": {
   "display_name": "Python 3",
   "language": "python",
   "name": "python3"
  },
  "language_info": {
   "codemirror_mode": {
    "name": "ipython",
    "version": 3
   },
   "file_extension": ".py",
   "mimetype": "text/x-python",
   "name": "python",
   "nbconvert_exporter": "python",
   "pygments_lexer": "ipython3",
   "version": "3.8.5"
  }
 },
 "nbformat": 4,
 "nbformat_minor": 4
}
