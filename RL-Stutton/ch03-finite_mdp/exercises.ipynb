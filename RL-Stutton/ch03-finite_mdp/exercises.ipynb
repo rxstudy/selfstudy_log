{
 "cells": [
  {
   "cell_type": "markdown",
   "metadata": {},
   "source": [
    "### Exercise 3.1\n",
    "\n",
    "1. Sudoku, State is 9x9 matrix with numbers 1-9. Actions, $A(s) = (i, j, a)$ where $i,j$ are availble positions and $k$ is the available number in that position in current state $s$. Reward $r$ is +1 for each grid being filled. In this example, actions are discrete and are dependent on the current state.\n",
    "2. Balance inverted pendulum, State is pole angle and cart velocity, action is force vector applied to the cart. Reward is a positive constant for each tick of time the pole managed to stay up. Here state is infinite as it is continuous.\n",
    "3. Chess, state is the board and actions are the currently allowed moves. Reward is 1 for winning, 0 for drawing and -1 for losing. The different is, the state depends on opponent's action as well and the reward is delayed until the game is ended."
   ]
  },
  {
   "cell_type": "markdown",
   "metadata": {},
   "source": [
    "### Exercise 3.2\n",
    "\n",
    "MDP assume the state depends on previous state and action on that state $p(r', s'|s, a)$. If the state can be affected by random actions in the past in a delayed fashion. The dynamic function's dimension will blow up."
   ]
  },
  {
   "cell_type": "markdown",
   "metadata": {},
   "source": [
    "### Exercise 3.3\n",
    "\n",
    "The level in which we model action space should be dependent on the goal of the learning tasks. \n",
    "The level should be the one that is closest to the level of where the goal is defined and one which we have full control.\n",
    "\n",
    "For example, if we want to minimize the driving distance from point A to point B. We have choice to define action as actions of the car, or the person inside the car or the person's brain activity. If we have full control of the car and since the car is on a macroscopic level closest to where the goal is defined, we will choose it. If we don't have full control of the car, say we are training a robot to drive it, the next cloest level which we have full control is the motor on the robot. "
   ]
  },
  {
   "cell_type": "code",
   "execution_count": null,
   "metadata": {},
   "outputs": [],
   "source": []
  }
 ],
 "metadata": {
  "kernelspec": {
   "display_name": "Python 3",
   "language": "python",
   "name": "python3"
  },
  "language_info": {
   "codemirror_mode": {
    "name": "ipython",
    "version": 3
   },
   "file_extension": ".py",
   "mimetype": "text/x-python",
   "name": "python",
   "nbconvert_exporter": "python",
   "pygments_lexer": "ipython3",
   "version": "3.8.5"
  }
 },
 "nbformat": 4,
 "nbformat_minor": 4
}
