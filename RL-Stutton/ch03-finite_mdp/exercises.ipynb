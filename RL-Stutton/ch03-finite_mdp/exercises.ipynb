{
 "cells": [
  {
   "cell_type": "markdown",
   "metadata": {},
   "source": [
    "### Exercise 3.1\n",
    "\n",
    "1. Sudoku, State is 9x9 matrix with numbers 1-9. Actions, $A(s) = (i, j, a)$ where $i,j$ are availble positions and $k$ is the available number in that position in current state $s$. Reward $r$ is +1 for each grid being filled. In this example, actions are discrete and are dependent on the current state.\n",
    "2. Balance inverted pendulum, State is pole angle and cart velocity, action is force vector applied to the cart. Reward is a positive constant for each tick of time the pole managed to stay up. Here state is infinite as it is continuous.\n",
    "3. Chess, state is the board and actions are the currently allowed moves. Reward is 1 for winning, 0 for drawing and -1 for losing. The different is, the state depends on opponent's action as well and the reward is delayed until the game is ended."
   ]
  },
  {
   "cell_type": "markdown",
   "metadata": {},
   "source": [
    "### Exercise 3.2\n",
    "\n",
    "MDP assume the state depends on previous state and action on that state $p(r', s'|s, a)$. If the state can be affected by random actions in the past in a delayed fashion. The dynamic function's dimension will blow up."
   ]
  },
  {
   "cell_type": "markdown",
   "metadata": {},
   "source": [
    "### Exercise 3.3\n",
    "\n",
    "The level in which we model action space should be dependent on the goal of the learning tasks. \n",
    "The level should be the one that is closest to the level of where the goal is defined and one which we have full control.\n",
    "\n",
    "For example, if we want to minimize the driving distance from point A to point B. We have choice to define action as actions of the car, or the person inside the car or the person's brain activity. If we have full control of the car and since the car is on a macroscopic level closest to where the goal is defined, we will choose it. If we don't have full control of the car, say we are training a robot to drive it, the next cloest level which we have full control is the motor on the robot. "
   ]
  },
  {
   "cell_type": "markdown",
   "metadata": {},
   "source": [
    "### Exercise 3.4\n",
    "\n",
    "| $s$ | $a$     | $s'$   | $r$                  | $p(s', r |s, a)$ |\n",
    "|:- |:-     | :-  | :-                |:-|\n",
    "|high|search  | high  | $r_{search}$ |$\\alpha$    |\n",
    "|high|search  | low   | $r_{search}$ |1 - $\\alpha$|\n",
    "|high|wait    | high  | $r_{wait}$   |1           |\n",
    "|low |search  | low   | $r_{search}$ |$\\beta$     |\n",
    "|low |search  | high  | -3                  |1-$\\beta$   |\n",
    "|low |wait    | low   | $r_{wait}$   |1           |\n",
    "|low |recharge| high  | 0                   |1           |"
   ]
  },
  {
   "cell_type": "markdown",
   "metadata": {},
   "source": [
    "### Exercise 3.5\n",
    "\n",
    "$p(s', r | s, a) = Pr(S_t = s', R_t = r | S_{t-1}=s, A_{t-1}=a)$ 's domain needs to be changed to $s', s \\in S\\cup S^+$ and $p(s'| s', a) = 0$ when $s'\\in S^+$ for any $a$"
   ]
  },
  {
   "cell_type": "markdown",
   "metadata": {},
   "source": [
    "### Exercise 3.6\n",
    "\n",
    "For pole-balancing as episodic task, $G_t = R_{t+1} + \\gamma R_{t+2} + \\cdots + \\gamma^{K-t-1}R_K$ where $K$ is the terminal time step. So $G_t = -\\gamma^{K-t-1}$\n"
   ]
  },
  {
   "cell_type": "markdown",
   "metadata": {},
   "source": [
    "### Exercise 3.7\n",
    "\n",
    "Treating running of maze as episodic tasks, the return $G_t = R_{t+1} + R_{t+2} + \\cdots + R_T$ where $T$ is the terminal time steps (We define $S^+$ to be only when agent escapes the maze). Based on the reward defined, $G_t = 1$ for any $t$ which means the return is constant for any episodes as they will have to reach the states in $S^+$. The agent will not know how to improve an already maximized return. \n",
    "\n",
    "With discount or penalty, the agent will have diminishing return the longer it takes to complete the maze. In this way, the agent will learn.  "
   ]
  },
  {
   "cell_type": "markdown",
   "metadata": {},
   "source": [
    "### Exercise 3.8\n",
    "$G_5 = 0$\n",
    "\n",
    "$G_4 = R_5 + 0.5G_5 = 2$\n",
    "\n",
    "$G_3 = R_4 + 0.5G_4 = 3 + 1 = 4$\n",
    "\n",
    "$G_2 = R_3 + 0.5G_3 = 6 + 2 = 8$\n",
    "\n",
    "$G_1 = R_2 + 0.5G_2 = 2 + 4 = 6$\n",
    "\n",
    "$G_0 = R_1 + 0.5G_1 = -1 + 6 = 2$"
   ]
  },
  {
   "cell_type": "markdown",
   "metadata": {},
   "source": [
    "### Exercise 3.9\n",
    "\n",
    "$G_0 = R_1 + \\sum_{k=2}^{\\infty}\\gamma^{k - 1}R_k = 2 + 7 \\sum_{k=1}^{\\infty}\\gamma^{k} = 2 + 7 \\times \\frac{0.9}{1-0.9} = 65$\n",
    "$G_0 = R_1 + \\gamma G_1 \\rightarrow G_1 = \\frac{G_0 - R_1}{\\gamma} = 70$"
   ]
  },
  {
   "cell_type": "markdown",
   "metadata": {},
   "source": [
    "### Exercise 3.10\n",
    "\n",
    "Take the limit of geometric series sum \n"
   ]
  },
  {
   "cell_type": "markdown",
   "metadata": {},
   "source": [
    "### Exercise 3.11\n",
    "Let $R_{t+1}=r, S_{t+1}=s', S_t=s, A_t=a$, then\n",
    "\n",
    "$\n",
    "\\begin{align}\n",
    "E[r|s] &= \\sum_r r p(r|s) \\\\\n",
    "       &= \\sum_r r \\sum_{s',a} p(s',r, s,a) \\\\ \n",
    "       &= \\sum_r r \\sum_{s',a} p(s',r | s,a) p(a|s)p(s) \\\\\n",
    "       &= \\sum_{r,s',a}r p(s',r | s,a) \\pi(a|s) \\ , \\  \\left(\\mbox{note that } p(s)=1 \\right) \\\\\n",
    "       &= \\sum_a \\pi(a|s) \\sum_{r,s'}r p(s',r | s,a) \n",
    "\\end{align}$"
   ]
  },
  {
   "cell_type": "markdown",
   "metadata": {},
   "source": [
    "### Exercise 3.12\n",
    "\n",
    "$\\begin{align}\n",
    "v_{\\pi}(s) &= E_{\\pi}[G_t |S_t = s] \\\\ \n",
    "           &= E_{\\pi}[G_t p(G_t, A_t=a | S_t = s)] \\\\ \n",
    "           &= \\sum_{G_t, a} G_t p(G_t| A_t =a,  S_t = s)p(A_t=a|S_t=s) \\\\\n",
    "           &= \\sum_a p(A_t=a|S_t=s) \\sum_{G_t} G_t p(G_t| A_t =a,  S_t = s) \\\\\n",
    "           &= \\sum_a \\pi(a|s) q_{\\pi}(s, a)\n",
    "\\end{align}$"
   ]
  },
  {
   "cell_type": "markdown",
   "metadata": {},
   "source": [
    "### Exercise 3.13\n",
    "\n",
    "$\\begin{align}\n",
    "q_{\\pi}(s,a) &= E_{\\pi}[R_{t+1} + \\gamma G_{t+1} | s, a] \\\\\n",
    "        &= E_{\\pi}[R_{t+1}|s,a] + \\gamma E_{\\pi}[ G_{t+1} | s, a] \\\\\n",
    "        &= \\sum_r rp(r|s,a) + \\gamma \\sum_{s'}\\sum_{a'} E[G_{t+1} | s', a']p(s',a'|s,a) \\\\\n",
    "        &= \\sum_r rp(r|s,a) + \\gamma \\sum_{s'}\\sum_{a'} q_{\\pi}(s',a')p(s',a'|s,a) \\\\\n",
    "        &= \\sum_r \\sum_{s'} rp(r,s'|s,a) + \\gamma \\sum_{s'}\\sum_{a'} q_{\\pi}(s',a')p(a'|s',s,a)p(s'|s,a) \\\\\n",
    "        &= \\sum_r \\sum_{s'} rp(r,s'|s,a) + \\gamma \\sum_{s'}\\sum_{a'} q_{\\pi}(s',a')p(a'|s')\\sum_r p(r, s'|s,a) \\\\\n",
    "        &= \\sum_r \\sum_{s'} p(r,s'|s,a) \\left[r + \\gamma \\sum_{a'} q_{\\pi}(s',a')p(a'|s')\\right] \\\\\n",
    "        &= \\sum_r \\sum_{s'} p(r,s'|s,a) \\left[r + \\gamma \\sum_{a'} q_{\\pi}(s',a')\\pi(a'|s')\\right] \\\\\n",
    "        &= \\sum_r \\sum_{s'} p(r,s'|s,a) \\left[r + \\gamma v_{\\pi}(s') \\right] \\ \\ \\ \\ \\mbox{(By Exercise 3.12)} \\\\\n",
    "\\end{align}$"
   ]
  },
  {
   "cell_type": "markdown",
   "metadata": {},
   "source": [
    "### Exercise 3.14\n",
    "For random policy, $\\pi(a|s) = 0.25$ for any $a$ and $s$. \n",
    "\n",
    "Let $s' \\in \\{l,r,u,d\\}$ denote the left,right,up,down from center and $a \\in \\{l, r, u, d\\}$ to denote the corresponding movement.\n",
    "\n",
    "$p(s', r=0 |s=center, a) = 1$ for $a = s'$ since the transition is deterministic and reward is always 0 for any direction from center. \n",
    "\n",
    "Therefore \n",
    "\n",
    "$\\begin{align} \n",
    "v_{\\pi}(center) &= \\sum_a \\pi(a|s) \\sum_{s',r} p(s',r|s,a)\\left[r + \\gamma v_{\\pi}(s')\\right] \\\\ \n",
    "   &= 0.25 \\sum_{s'}[0 + \\gamma v_{\\pi}(s')]  \\\\\n",
    "   &= \\sum_a 0.25 [0.9 \\times (0.7 + 2.3 + 0.4 - 0.4)] \\\\\n",
    "   &\\approx 0.7\n",
    "\\end{align}$"
   ]
  },
  {
   "cell_type": "markdown",
   "metadata": {},
   "source": [
    "### Exercise 3.15\n",
    "\n",
    "From (3.8), the return $G_t = \\sum_{k=0}^{\\infty} \\gamma^k R_{t+k+1}$. Adding a constant reward $c$, we have \n",
    "\n",
    "$\\hat{G}_t = \\sum_{k=0}^{\\infty} \\gamma^k (R_{t+k+1} + c) = \\sum_{k=0}^{\\infty} \\gamma^k R_{t+k+1} +  c  \\sum_{k=0}^{\\infty} \\gamma^k = G_t + \\frac{c}{1-\\gamma}$\n",
    "\n",
    "Therefore \n",
    "\n",
    "$\\hat{v}(s) = E_{\\pi} [\\hat{G}_t |S_t = s] = E_{\\pi} [G_t + \\frac{c}{1-\\gamma} |S_t = s] = v(s)+ \\frac{c}{1-\\gamma}$\n",
    "\n",
    "$v_c =  \\frac{c}{1-\\gamma}$"
   ]
  },
  {
   "cell_type": "markdown",
   "metadata": {},
   "source": [
    "### Exercise 3.16\n",
    "\n",
    "Adding a constant $c$ to reward for episodic task, we don't have a converging infinite sum like we have in the conintuing tasks. \n",
    "So $\\hat{G}_t = \\sum_{k=0}^{T} \\gamma^k (R_{t+k+1} + c) = \\sum_{k=0}^{T} \\gamma^k R_{t+k+1} +  c  \\sum_{k=0}^{T} \\gamma^k = G_t + \\frac{c(1 - \\gamma^T)}{1-\\gamma}$\n",
    "\n",
    "And $\\hat{v}(s) = v(s) + c\\frac{1 - E[\\gamma^T| S_t = s]}{1-\\gamma}$ Depending on the random variable $T$\n",
    "\n",
    "For running a maze, if we have reward of -1 for each step the agent takes and +1 reward for escaping the maze. The agent can learn to minimize the step it takes to maximize the return. \n",
    "\n",
    "But if we add a 1 to all reward such that we have reward of 0 for each step the agent takes and reward of 2 for escaping the maze. The agent will not learn as the return will always be constant. (See exercise 3.7)"
   ]
  },
  {
   "cell_type": "markdown",
   "metadata": {},
   "source": [
    "### Exercise 3.17\n",
    "Bellman equation for action value\n",
    "\n",
    "$\\begin{align}\n",
    "q_{\\pi}(s,a) &= E_{\\pi}[G_{t} | s, a] \\\\\n",
    "  &= E_{\\pi}[R_{t+1} + \\gamma G_{t+1} | s, a] \\\\\n",
    "  &= E_{\\pi}[R_{t+1} | s, a] + \\gamma E_{\\pi}[G_{t+1} | s, a] \\\\\n",
    "  &= \\sum_r rp(r | s, a) + \\gamma \\sum_{a'}\\sum_{s'}E_{\\pi}[G_{t+1} | s', a']p(s',a'|s,a) \\\\\n",
    "  &= \\sum_r rp(r | s, a) + \\gamma \\sum_{a'}\\sum_{s'}q_{\\pi}(s',a')p(a'|s',s,a)p(s'|s, a) \\\\\n",
    "  &= \\sum_r \\sum_{s'} rp(s', r| s, a) + \\gamma \\sum_{a'}\\sum_{s'}q_{\\pi}(s',a')p(a'|s')\\sum_r p(s',r|s, a) \\\\\n",
    "  &= \\sum_r \\sum_{s'} rp(s', r| s, a) + \\gamma \\sum_{a'}\\sum_{s'}\\sum_r q_{\\pi}(s',a')\\pi(a'|s') p(s',r|s, a) \\\\\n",
    "  &= \\sum_r \\sum_{s'}p(s', r| s, a)\\left[ r + \\gamma \\sum_{a'} q_{\\pi}(s',a')\\pi(a'|s') \\right] \\\\\n",
    "\\end{align}$"
   ]
  },
  {
   "cell_type": "markdown",
   "metadata": {},
   "source": [
    "### Exercise 3.18\n",
    "\n",
    "From the diagram, $s$ branches out according to distribution $\\pi(a|s)$. Therefore,  $v_{\\pi}(a) = \\sum_a \\pi(a|s) q_{\\pi}(s,a) = E_{\\pi}[q_{\\pi}(s,a)|S_t=s]$"
   ]
  },
  {
   "cell_type": "markdown",
   "metadata": {},
   "source": [
    "### Exercise 3.19\n",
    "\n",
    "$q_{\\pi}(s,a) = E[R_{t+1} + \\gamma v_{\\pi}(S_{t+1})|S_t = s, A_t = a]$\n",
    "\n",
    "$q_{\\pi}(s,a) = \\sum_{s',r} p(r, s'|s,a) \\left[r + \\gamma v_{\\pi}(s')\\right]$"
   ]
  },
  {
   "cell_type": "code",
   "execution_count": null,
   "metadata": {},
   "outputs": [],
   "source": []
  }
 ],
 "metadata": {
  "kernelspec": {
   "display_name": "Python 3",
   "language": "python",
   "name": "python3"
  },
  "language_info": {
   "codemirror_mode": {
    "name": "ipython",
    "version": 3
   },
   "file_extension": ".py",
   "mimetype": "text/x-python",
   "name": "python",
   "nbconvert_exporter": "python",
   "pygments_lexer": "ipython3",
   "version": "3.8.5"
  }
 },
 "nbformat": 4,
 "nbformat_minor": 4
}
