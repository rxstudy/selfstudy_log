{
 "cells": [
  {
   "cell_type": "markdown",
   "metadata": {},
   "source": [
    "### Exercise 4.4\n",
    "Store all the actions that maximizes current value function e.g.\n",
    "$ \\{a | a = \\arg\\max E[R_{t+1}+\\gamma V|s,a] \\}$\n",
    "\n",
    "We can pick the first action as an update to the policy. \n",
    "Then if old_action is not in this list, then policy_stable = false."
   ]
  },
  {
   "cell_type": "markdown",
   "metadata": {},
   "source": [
    "### Exercise 4.5\n",
    "\n",
    "1. Initialization $Q(s,a)\\in \\mathbb{R}$ and $\\pi(s)\\in \\mathcal{A}(s)$ arbitrarily for all $s\\in \\mathcal{S}$\n",
    "\n",
    "2. Policy Evaluation:\n",
    "```\n",
    "Loop:\n",
    "   delta <- 0\n",
    "   Loop for each (s,a) in S x A(s)\n",
    "     q <- Q(s,a)\n",
    "     Q(s,a) <- sum_{s',r} p(s',r|s, a)[r + gamma * sum_{a'} pi(a'|s') * Q(s',a')]\n",
    "     delta <- |Q(s,a) - q|\n",
    "     if delta < tolerance\n",
    "        return Q\n",
    "```\n",
    "3. Policy Improvement:\n",
    "```\n",
    "  policy-stable <- true\n",
    "  For each s in S\n",
    "    old-actions <- pi(a|s)\n",
    "    pi(a|s) <- argmax_a Q(s,a)\n",
    "    if old-actions =/= pi(a|s) then policy-stable <- false\n",
    "    if policy-stable, return Q and pi. Go back to step 2.\n",
    "```"
   ]
  },
  {
   "cell_type": "markdown",
   "metadata": {},
   "source": [
    "### Exercise 4.10\n",
    "$$\\begin{align}\n",
    " q(s,a) &= E[R_{t+1} + \\gamma G_{t+1} |s, a] \\\\\n",
    "        &= \\sum{r,s'} p(r,s'|s,a) [r + \\gamma \\sum_{a'} q(s',a')\\pi(a'|s')] \\\\\n",
    "\\end{align}$$\n",
    "\n",
    "\n",
    "the update rule for value-action iteration is\n",
    "\n",
    "$$q(s,a) \\leftarrow \\sum{r,s'} p(r,s'|s,a) [r + \\gamma \\max_{a'} q(s',a')] $$"
   ]
  },
  {
   "cell_type": "code",
   "execution_count": null,
   "metadata": {},
   "outputs": [],
   "source": []
  }
 ],
 "metadata": {
  "kernelspec": {
   "display_name": "Python 3",
   "language": "python",
   "name": "python3"
  },
  "language_info": {
   "codemirror_mode": {
    "name": "ipython",
    "version": 3
   },
   "file_extension": ".py",
   "mimetype": "text/x-python",
   "name": "python",
   "nbconvert_exporter": "python",
   "pygments_lexer": "ipython3",
   "version": "3.8.5"
  }
 },
 "nbformat": 4,
 "nbformat_minor": 4
}
