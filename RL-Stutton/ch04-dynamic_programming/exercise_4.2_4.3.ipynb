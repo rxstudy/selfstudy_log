{
 "cells": [
  {
   "cell_type": "code",
   "execution_count": 1,
   "metadata": {},
   "outputs": [],
   "source": [
    "import numpy as np\n",
    "import pandas as pd\n",
    "\n",
    "def prettyprint(table, index_name):\n",
    "    df = pd.DataFrame(table)\n",
    "    df.index.name = index_name\n",
    "    display(df)"
   ]
  },
  {
   "cell_type": "markdown",
   "metadata": {},
   "source": [
    "### Exercise 4.2"
   ]
  },
  {
   "cell_type": "code",
   "execution_count": 23,
   "metadata": {},
   "outputs": [
    {
     "name": "stdout",
     "output_type": "stream",
     "text": [
      "{(0, 1), (1, 2), (2, 1), (4, 1), (3, 1), (1, 1), (0, 3), (2, 0), (3, 0), (2, 3), (0, 2), (2, 2), (1, 0), (3, 2), (1, 3)}\n"
     ]
    }
   ],
   "source": [
    "TERMINAL_STATES = set([(0,0), (3,3)])\n",
    "INVALID_STATES = set([(4, 0), (4, 2), (4, 3)])\n",
    "VALID_STATES = get_valid_states()\n",
    "ACTION_TO_VEC = {\"left\": (0, -1), \"right\": (0, 1), \"up\": (-1, 0), \"down\": (1, 0)}\n",
    "def get_valid_states():\n",
    "    states = set([])\n",
    "    for i in range(5):\n",
    "        for j in range(4):\n",
    "            if ((i,j) not in TERMINAL_STATES) and ((i,j) not in INVALID_STATES):\n",
    "                states.add((i,j))\n",
    "    return states\n",
    "                \n",
    "print(VALID_STATES)    "
   ]
  },
  {
   "cell_type": "code",
   "execution_count": 27,
   "metadata": {},
   "outputs": [],
   "source": [
    "class V:\n",
    "    def __init__(self):\n",
    "        self.v = np.zeros((5,4))\n",
    "        \n",
    "    def get_v(self, s):\n",
    "        if s not in VALID_STATES:\n",
    "            return 0\n",
    "        return self.v[s[0], s[1]]\n",
    "    \n",
    "    def set_v(self, s, v):\n",
    "        if s in VALID_STATES:\n",
    "            self.v[s[0], s[1]] = v\n",
    "        \n",
    "    def diff(self, v_prime):\n",
    "        return np.sum(np.absolute(self.v - v_prime.v))\n",
    "    \n",
    "    def copy(self):\n",
    "        dup = V()\n",
    "        dup.v = np.array(self.v, copy=True)\n",
    "        return dup    "
   ]
  },
  {
   "cell_type": "code",
   "execution_count": 28,
   "metadata": {},
   "outputs": [],
   "source": [
    "def transition(s, a):\n",
    "    # If already at terminal state return 0 (extension of episodic tasks as continuing tasks)\n",
    "    if s in TERMINAL_STATES:\n",
    "        return (s, 0)\n",
    "    \n",
    "    a_vec = ACTION_TO_VEC[a]\n",
    "    s_prime = (s[0] + a_vec[0], s[1] + a_vec[1])\n",
    "    \n",
    "    # reaching terminal state from non terminal gets -1\n",
    "    if s_prime in TERMINAL_STATES:\n",
    "        return (s_prime, -1)\n",
    "    \n",
    "    if s_prime not in VALID_STATES:\n",
    "        return (s, -1)\n",
    "    \n",
    "    return (s_prime, -1) "
   ]
  },
  {
   "cell_type": "code",
   "execution_count": 29,
   "metadata": {},
   "outputs": [
    {
     "data": {
      "text/html": [
       "<div>\n",
       "<style scoped>\n",
       "    .dataframe tbody tr th:only-of-type {\n",
       "        vertical-align: middle;\n",
       "    }\n",
       "\n",
       "    .dataframe tbody tr th {\n",
       "        vertical-align: top;\n",
       "    }\n",
       "\n",
       "    .dataframe thead th {\n",
       "        text-align: right;\n",
       "    }\n",
       "</style>\n",
       "<table border=\"1\" class=\"dataframe\">\n",
       "  <thead>\n",
       "    <tr style=\"text-align: right;\">\n",
       "      <th></th>\n",
       "      <th>0</th>\n",
       "      <th>1</th>\n",
       "      <th>2</th>\n",
       "      <th>3</th>\n",
       "    </tr>\n",
       "    <tr>\n",
       "      <th>v(s)</th>\n",
       "      <th></th>\n",
       "      <th></th>\n",
       "      <th></th>\n",
       "      <th></th>\n",
       "    </tr>\n",
       "  </thead>\n",
       "  <tbody>\n",
       "    <tr>\n",
       "      <th>0</th>\n",
       "      <td>0.0</td>\n",
       "      <td>-14.7</td>\n",
       "      <td>-20.9</td>\n",
       "      <td>-22.9</td>\n",
       "    </tr>\n",
       "    <tr>\n",
       "      <th>1</th>\n",
       "      <td>-15.0</td>\n",
       "      <td>-19.2</td>\n",
       "      <td>-21.1</td>\n",
       "      <td>-20.9</td>\n",
       "    </tr>\n",
       "    <tr>\n",
       "      <th>2</th>\n",
       "      <td>-21.8</td>\n",
       "      <td>-21.9</td>\n",
       "      <td>-19.3</td>\n",
       "      <td>-14.7</td>\n",
       "    </tr>\n",
       "    <tr>\n",
       "      <th>3</th>\n",
       "      <td>-24.6</td>\n",
       "      <td>-23.4</td>\n",
       "      <td>-15.6</td>\n",
       "      <td>0.0</td>\n",
       "    </tr>\n",
       "    <tr>\n",
       "      <th>4</th>\n",
       "      <td>0.0</td>\n",
       "      <td>-27.4</td>\n",
       "      <td>0.0</td>\n",
       "      <td>0.0</td>\n",
       "    </tr>\n",
       "  </tbody>\n",
       "</table>\n",
       "</div>"
      ],
      "text/plain": [
       "         0     1     2     3\n",
       "v(s)                        \n",
       "0      0.0 -14.7 -20.9 -22.9\n",
       "1    -15.0 -19.2 -21.1 -20.9\n",
       "2    -21.8 -21.9 -19.3 -14.7\n",
       "3    -24.6 -23.4 -15.6   0.0\n",
       "4      0.0 -27.4   0.0   0.0"
      ]
     },
     "metadata": {},
     "output_type": "display_data"
    }
   ],
   "source": [
    "error_tolerance = 1e-4\n",
    "error = 1\n",
    "v = V()\n",
    "while error > error_tolerance:\n",
    "    current_v = v.copy()\n",
    "    for s in VALID_STATES:\n",
    "        new_s_val = 0\n",
    "        for a in [\"up\", \"down\", \"left\", \"right\"]:\n",
    "            s_prime, r = transition(s, a)\n",
    "            new_s_val += (0.25 * (r +  v.get_v(s_prime)))\n",
    "        v.set_v(s, new_s_val)\n",
    "    error = v.diff(current_v)\n",
    "    \n",
    "prettyprint(np.round(v.v, 1), \"v(s)\")"
   ]
  },
  {
   "cell_type": "markdown",
   "metadata": {},
   "source": [
    "As we can see, adding a dead end state 15 causes ripple effect on all states basic on the distance to the added state. The surrounding state values get decreased as the states further from it gets slight increase in value. Based on the table, we have $v_{\\pi}(15) = -27.4$"
   ]
  },
  {
   "cell_type": "markdown",
   "metadata": {},
   "source": [
    "### Exercise 4.3\n",
    "\n",
    "$\\begin{align}\n",
    "q_{\\pi}(s,a) &= E_{\\pi}[G_t|s,a] \\\\\n",
    "&= E_{\\pi}[R_{t+1}+\\gamma G_{t+1}|s,a] \\\\\n",
    "&= E_{\\pi}[R_{t+1}|s,a] +  \\gamma  E_{\\pi}[G_{t+1}|s,a] \\\\\n",
    "&= E_{\\pi}[R_{t+1}|s,a] +  \\gamma \\sum_{s',a'} E_{\\pi}[G_{t+1}|s',a']p(s',a'|s,a) \\\\\n",
    "&= \\sum_{s',r}rp(s',r|s,a) +  \\gamma \\sum_{s',a'} q_{\\pi}(s',a')p(a'|s',s,a)\\sum_r p(s',r|s,a) \\\\\n",
    "&= \\sum_{s',r}p(s',r|s,a) \\left[r +  \\gamma \\sum_{a'} q_{\\pi}(s',a')\\pi(a'|s')\\right] \\\\\n",
    "\\end{align}$\n",
    "\n",
    "Then we have $$\n",
    "q_{t+1}(s,a) = \\sum_{s',r}p(s',r|s,a) \\left[r +  \\gamma \\sum_{a'} q_{t}(s',a')\\pi(a'|s')\\right] $$"
   ]
  },
  {
   "cell_type": "code",
   "execution_count": null,
   "metadata": {},
   "outputs": [],
   "source": []
  }
 ],
 "metadata": {
  "kernelspec": {
   "display_name": "Python 3",
   "language": "python",
   "name": "python3"
  },
  "language_info": {
   "codemirror_mode": {
    "name": "ipython",
    "version": 3
   },
   "file_extension": ".py",
   "mimetype": "text/x-python",
   "name": "python",
   "nbconvert_exporter": "python",
   "pygments_lexer": "ipython3",
   "version": "3.8.5"
  }
 },
 "nbformat": 4,
 "nbformat_minor": 4
}
