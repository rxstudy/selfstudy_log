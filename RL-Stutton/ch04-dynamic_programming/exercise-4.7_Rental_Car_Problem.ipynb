{
 "cells": [
  {
   "cell_type": "markdown",
   "metadata": {},
   "source": [
    "### Exercise 4.7\n",
    "\n",
    "Let state $S$ be $S=(S_1, S_2)$. Rental request $L=(L_1,L_2)$, Return request $T=(T_1,T_2)$. Action $A$, Reward $R$.\n",
    "\n",
    "$$\\begin{aligned}\n",
    "P(S', R|S, A) &= \\sum_{L,T} P(S', R, L, T | S, A) \\\\\n",
    "   &= \\sum_{L,T} P(S', R | L, T, S, A) P( L, T | S, A) \\\\ \n",
    "   &= \\sum_{L,T} P(S', R | L, T, S, A) P( L ) P(T) \\\\\n",
    "   &= \\sum_{L,T \\mbox{ that leads to }S', R} P(L) P(T) \\\\\n",
    "   &= \\sum_{L,T \\mbox{ that leads to }S', R} P(L_1) P(T_1)P(L_2)P(T_2)\n",
    "\\end{aligned}$$"
   ]
  },
  {
   "cell_type": "markdown",
   "metadata": {},
   "source": [
    "| |Shop 1| Shop 2|\n",
    "|---- |- |-|\n",
    "|Rental($L$)| Poisson(3) | Poisson(4)|\n",
    "|Return($T$)| Poisson(3) | Poisson(2)|\n",
    "\n",
    "Note that \n",
    "\n",
    "$(1 - poisson.cdf(12, 3)) = 1.6(10^{-5})$\n",
    "\n",
    "$(1 - poisson.cdf(10, 2)) = 8.3(10^{-6})$\n",
    "\n",
    "\n",
    "$(1 - poisson.cdf(14, 4)) = 2.0(10^{-5})$\n",
    "\n",
    "So we constrain $L_1, T_1 \\in [0, 12], L_2 \\in [0,14], T_2 \\in[0,10]$\n",
    "\n",
    "For value iteration, we need to pick the best action given a starting state, so our dynamics table will be a nested dictionary in the following structure $(S_1, S_2) \\rightarrow A \\rightarrow (S', r) \\rightarrow P(S',R|S,A)$"
   ]
  },
  {
   "cell_type": "code",
   "execution_count": 113,
   "metadata": {},
   "outputs": [],
   "source": [
    "%matplotlib inline\n",
    "import tensorflow as tf\n",
    "import numpy as np\n",
    "import collections\n",
    "import pandas as pd\n",
    "from tqdm import tqdm\n",
    "import matplotlib.pyplot as plt\n",
    "from itertools import product\n",
    "from collections import namedtuple\n",
    "from numpy.random import default_rng\n",
    "from scipy.stats import poisson\n",
    "rng = default_rng()"
   ]
  },
  {
   "cell_type": "code",
   "execution_count": 136,
   "metadata": {},
   "outputs": [],
   "source": [
    "def car_rental_sim(s1, s2, moved_from_one, l1, l2, t1, t2):\n",
    "    if moved_from_one >= 0:\n",
    "        cars_to_move = min(s1, moved_from_one)\n",
    "        sp1, sp2 = s1 - cars_to_move, min(20, s2 + cars_to_move)\n",
    "    else:\n",
    "        cars_to_move = min(s2, - moved_from_one)\n",
    "        sp1, sp2 = min(20, s1 + cars_to_move), s2 - cars_to_move\n",
    "\n",
    "    reward = -2 * cars_to_move\n",
    "\n",
    "    actual_l1, actual_l2 = min(sp1, l1), min(sp2, l2)\n",
    "    reward += 10 * (actual_l1 + actual_l2)\n",
    "\n",
    "    sp1 = min(20, sp1 - actual_l1 + t1)\n",
    "    sp2 = min(20, sp2 - actual_l2 + t2)\n",
    "\n",
    "    # return s', r\n",
    "    return ((sp1, sp2), reward)"
   ]
  },
  {
   "cell_type": "code",
   "execution_count": 143,
   "metadata": {},
   "outputs": [],
   "source": [
    "# Test car rental sim\n",
    "test_cases = [ # (Input,  Expected output)\n",
    "    # Move more cars than available\n",
    "    [(3, 3, 5, 0, 0, 0, 0), ((0, 6), -2 * 3)],\n",
    "    [(3, 3, -5, 0, 0, 0, 0), ((6, 0), -2 * 3)],\n",
    "    # More rental request than cars available\n",
    "    [(3, 3, 5, 0, 7, 0, 0), ((0, 0), -2 * 3 + 10 * 6)],\n",
    "    [(3, 3, -5, 7, 0, 0, 0), ((0, 0), -2 * 3 + 10 * 6)],\n",
    "    # Move more cars than shop can contain\n",
    "    [(18, 18, -5, 0, 0, 0, 0), ((20, 13), -2 * 5)],\n",
    "    [(18, 18, 5, 0, 0, 0, 0), ((13, 20), -2 * 5)],\n",
    "    # Return more cars than shop can contain\n",
    "    [(18, 18, 0, 0, 0, 5, 0), ((20, 18), 0)],\n",
    "    [(18, 18, 0, 0, 0, 0, 5), ((18, 20), 0)],\n",
    "]\n",
    "\n",
    "for test_case in test_cases:\n",
    "    assert car_rental_sim(*test_case[0]) == test_case[1], \\\n",
    "           \"For {}, Expected {}, But get {}\".format(test_case[0],  test_case[1], car_rental_sim(*test_case[0]))"
   ]
  },
  {
   "cell_type": "code",
   "execution_count": 145,
   "metadata": {},
   "outputs": [],
   "source": [
    "sim = CarRentalOriginalSim()\n",
    "poss_3 = [poisson.pmf(k, 3)  for k in range(13)]\n",
    "poss_4 = [poisson.pmf(k, 4)  for k in range(15)]\n",
    "poss_2 = [poisson.pmf(k, 2)  for k in range(11)]\n",
    "p = {}"
   ]
  },
  {
   "cell_type": "code",
   "execution_count": 146,
   "metadata": {},
   "outputs": [
    {
     "name": "stderr",
     "output_type": "stream",
     "text": [
      "100%|████████████████████████████████████████████████████████████████████████████████| 441/441 [07:46<00:00,  1.06s/it]\n"
     ]
    }
   ],
   "source": [
    "# Build dynamics\n",
    "initial_states = tqdm([(s1, s2) for s1 in range(21) for s2 in range(21)])\n",
    "for (s1, s2) in initial_states:\n",
    "    for a in range(-5, 6):\n",
    "        for (l1, l2) in product(range(13), range(15)):\n",
    "            for (t1, t2) in product(range(13), range(11)):\n",
    "                if (s1, s2) not in p:\n",
    "                    p[(s1, s2)] = {}\n",
    "                \n",
    "                if a not in p[(s1,s2)]:\n",
    "                    p[(s1,s2)][a] = {}\n",
    "                \n",
    "                sp, r = car_rental_sim(s1, s2, a, l1, l2, t1, t2)\n",
    "                if (sp, r) not in  p[(s1, s2)][a]:\n",
    "                    p[(s1, s2)][a][(sp, r)] = 0\n",
    "                p[(s1, s2)][a][(sp, r)] += poss_3[l1] * poss_3[t1] * poss_4[l2] * poss_2[t2]\n"
   ]
  },
  {
   "cell_type": "markdown",
   "metadata": {},
   "source": [
    "Above is the plot of poisson pmf over the integers, notice that the probability quickly drop to near 0. We will prune the the 3 columns up to row (5, 6, 7)."
   ]
  },
  {
   "cell_type": "code",
   "execution_count": 147,
   "metadata": {},
   "outputs": [],
   "source": [
    "# Save computed dynamics\n",
    "import pickle\n",
    "\n",
    "with open('dynamics_4_7.pickle', 'wb') as h:\n",
    "    pickle.dump(p, h, protocol=pickle.HIGHEST_PROTOCOL)"
   ]
  },
  {
   "cell_type": "code",
   "execution_count": 148,
   "metadata": {},
   "outputs": [],
   "source": [
    "# Variables\n",
    "epochs = 25\n",
    "gamma = 0.9\n",
    "v = np.zeros((21, 21))\n",
    "states_to_iter = [(s1, s2) for s1 in range(21) for s2 in range(21)]\n",
    "dv_history = []"
   ]
  },
  {
   "cell_type": "code",
   "execution_count": 150,
   "metadata": {},
   "outputs": [
    {
     "name": "stderr",
     "output_type": "stream",
     "text": [
      "  2%|█▍                                                                                 | 1/60 [00:19<19:01, 19.34s/it]"
     ]
    },
    {
     "name": "stdout",
     "output_type": "stream",
     "text": [
      "Epoch 0 , loss: 100000.0\n"
     ]
    },
    {
     "name": "stderr",
     "output_type": "stream",
     "text": [
      "\r",
      "  3%|██▊                                                                                | 2/60 [00:38<18:37, 19.27s/it]"
     ]
    },
    {
     "name": "stdout",
     "output_type": "stream",
     "text": [
      "Epoch 1 , loss: 111.47267338753213\n"
     ]
    },
    {
     "name": "stderr",
     "output_type": "stream",
     "text": [
      "\r",
      "  5%|████▏                                                                              | 3/60 [00:58<18:23, 19.36s/it]"
     ]
    },
    {
     "name": "stdout",
     "output_type": "stream",
     "text": [
      "Epoch 2 , loss: 87.93294550185291\n"
     ]
    },
    {
     "name": "stderr",
     "output_type": "stream",
     "text": [
      "\r",
      "  7%|█████▌                                                                             | 4/60 [01:17<18:10, 19.48s/it]"
     ]
    },
    {
     "name": "stdout",
     "output_type": "stream",
     "text": [
      "Epoch 3 , loss: 66.2025544500105\n"
     ]
    },
    {
     "name": "stderr",
     "output_type": "stream",
     "text": [
      "\r",
      "  8%|██████▉                                                                            | 5/60 [01:37<17:55, 19.56s/it]"
     ]
    },
    {
     "name": "stdout",
     "output_type": "stream",
     "text": [
      "Epoch 4 , loss: 49.95194911251377\n"
     ]
    },
    {
     "name": "stderr",
     "output_type": "stream",
     "text": [
      "\r",
      " 10%|████████▎                                                                          | 6/60 [01:57<17:37, 19.58s/it]"
     ]
    },
    {
     "name": "stdout",
     "output_type": "stream",
     "text": [
      "Epoch 5 , loss: 38.528163960779295\n"
     ]
    },
    {
     "name": "stderr",
     "output_type": "stream",
     "text": [
      "\r",
      " 12%|█████████▋                                                                         | 7/60 [02:16<17:17, 19.57s/it]"
     ]
    },
    {
     "name": "stdout",
     "output_type": "stream",
     "text": [
      "Epoch 6 , loss: 31.325967260802884\n"
     ]
    },
    {
     "name": "stderr",
     "output_type": "stream",
     "text": [
      "\r",
      " 13%|███████████                                                                        | 8/60 [02:36<16:54, 19.51s/it]"
     ]
    },
    {
     "name": "stdout",
     "output_type": "stream",
     "text": [
      "Epoch 7 , loss: 25.7535507754518\n"
     ]
    },
    {
     "name": "stderr",
     "output_type": "stream",
     "text": [
      "\r",
      " 15%|████████████▍                                                                      | 9/60 [02:55<16:36, 19.54s/it]"
     ]
    },
    {
     "name": "stdout",
     "output_type": "stream",
     "text": [
      "Epoch 8 , loss: 21.126615164527266\n"
     ]
    },
    {
     "name": "stderr",
     "output_type": "stream",
     "text": [
      "\r",
      " 17%|█████████████▋                                                                    | 10/60 [03:14<16:10, 19.41s/it]"
     ]
    },
    {
     "name": "stdout",
     "output_type": "stream",
     "text": [
      "Epoch 9 , loss: 17.311213908278376\n"
     ]
    },
    {
     "name": "stderr",
     "output_type": "stream",
     "text": [
      "\r",
      " 18%|███████████████                                                                   | 11/60 [03:34<15:48, 19.36s/it]"
     ]
    },
    {
     "name": "stdout",
     "output_type": "stream",
     "text": [
      "Epoch 10 , loss: 14.175791516532342\n"
     ]
    },
    {
     "name": "stderr",
     "output_type": "stream",
     "text": [
      "\r",
      " 20%|████████████████▍                                                                 | 12/60 [03:53<15:26, 19.30s/it]"
     ]
    },
    {
     "name": "stdout",
     "output_type": "stream",
     "text": [
      "Epoch 11 , loss: 11.605636910004762\n"
     ]
    },
    {
     "name": "stderr",
     "output_type": "stream",
     "text": [
      "\r",
      " 22%|█████████████████▊                                                                | 13/60 [04:12<15:03, 19.22s/it]"
     ]
    },
    {
     "name": "stdout",
     "output_type": "stream",
     "text": [
      "Epoch 12 , loss: 9.500839519467945\n"
     ]
    },
    {
     "name": "stderr",
     "output_type": "stream",
     "text": [
      "\r",
      " 23%|███████████████████▏                                                              | 14/60 [04:31<14:43, 19.21s/it]"
     ]
    },
    {
     "name": "stdout",
     "output_type": "stream",
     "text": [
      "Epoch 13 , loss: 7.777299649419888\n"
     ]
    },
    {
     "name": "stderr",
     "output_type": "stream",
     "text": [
      "\r",
      " 25%|████████████████████▌                                                             | 15/60 [04:50<14:26, 19.26s/it]"
     ]
    },
    {
     "name": "stdout",
     "output_type": "stream",
     "text": [
      "Epoch 14 , loss: 6.366367129406569\n"
     ]
    },
    {
     "name": "stderr",
     "output_type": "stream",
     "text": [
      "\r",
      " 27%|█████████████████████▊                                                            | 16/60 [05:10<14:14, 19.43s/it]"
     ]
    },
    {
     "name": "stdout",
     "output_type": "stream",
     "text": [
      "Epoch 15 , loss: 5.211587699919221\n"
     ]
    },
    {
     "name": "stderr",
     "output_type": "stream",
     "text": [
      "\r",
      " 28%|███████████████████████▏                                                          | 17/60 [05:30<14:02, 19.60s/it]"
     ]
    },
    {
     "name": "stdout",
     "output_type": "stream",
     "text": [
      "Epoch 16 , loss: 4.266323158977173\n"
     ]
    },
    {
     "name": "stderr",
     "output_type": "stream",
     "text": [
      "\r",
      " 30%|████████████████████████▌                                                         | 18/60 [05:50<13:48, 19.74s/it]"
     ]
    },
    {
     "name": "stdout",
     "output_type": "stream",
     "text": [
      "Epoch 17 , loss: 3.4925612151968153\n"
     ]
    },
    {
     "name": "stderr",
     "output_type": "stream",
     "text": [
      "\r",
      " 32%|█████████████████████████▉                                                        | 19/60 [06:10<13:31, 19.80s/it]"
     ]
    },
    {
     "name": "stdout",
     "output_type": "stream",
     "text": [
      "Epoch 18 , loss: 2.859214610173183\n"
     ]
    },
    {
     "name": "stderr",
     "output_type": "stream",
     "text": [
      "\r",
      " 33%|███████████████████████████▎                                                      | 20/60 [06:30<13:16, 19.92s/it]"
     ]
    },
    {
     "name": "stdout",
     "output_type": "stream",
     "text": [
      "Epoch 19 , loss: 2.340788934840475\n"
     ]
    },
    {
     "name": "stderr",
     "output_type": "stream",
     "text": [
      "\r",
      " 35%|████████████████████████████▋                                                     | 21/60 [06:50<12:57, 19.93s/it]"
     ]
    },
    {
     "name": "stdout",
     "output_type": "stream",
     "text": [
      "Epoch 20 , loss: 1.9164106432041308\n"
     ]
    },
    {
     "name": "stderr",
     "output_type": "stream",
     "text": [
      "\r",
      " 37%|██████████████████████████████                                                    | 22/60 [07:10<12:33, 19.84s/it]"
     ]
    },
    {
     "name": "stdout",
     "output_type": "stream",
     "text": [
      "Epoch 21 , loss: 1.5690014551785794\n"
     ]
    },
    {
     "name": "stderr",
     "output_type": "stream",
     "text": [
      "\r",
      " 38%|███████████████████████████████▍                                                  | 23/60 [07:29<12:10, 19.73s/it]"
     ]
    },
    {
     "name": "stdout",
     "output_type": "stream",
     "text": [
      "Epoch 22 , loss: 1.284590277596351\n"
     ]
    },
    {
     "name": "stderr",
     "output_type": "stream",
     "text": [
      "\r",
      " 40%|████████████████████████████████▊                                                 | 24/60 [07:49<11:45, 19.59s/it]"
     ]
    },
    {
     "name": "stdout",
     "output_type": "stream",
     "text": [
      "Epoch 23 , loss: 1.051749477484634\n"
     ]
    },
    {
     "name": "stderr",
     "output_type": "stream",
     "text": [
      "\r",
      " 42%|██████████████████████████████████▏                                               | 25/60 [08:08<11:21, 19.48s/it]"
     ]
    },
    {
     "name": "stdout",
     "output_type": "stream",
     "text": [
      "Epoch 24 , loss: 0.8611286239878382\n"
     ]
    },
    {
     "name": "stderr",
     "output_type": "stream",
     "text": [
      "\r",
      " 43%|███████████████████████████████████▌                                              | 26/60 [08:27<10:59, 19.40s/it]"
     ]
    },
    {
     "name": "stdout",
     "output_type": "stream",
     "text": [
      "Epoch 25 , loss: 0.7050693492628852\n"
     ]
    },
    {
     "name": "stderr",
     "output_type": "stream",
     "text": [
      " 43%|███████████████████████████████████▌                                              | 26/60 [08:34<11:12, 19.78s/it]\n"
     ]
    },
    {
     "ename": "KeyboardInterrupt",
     "evalue": "",
     "output_type": "error",
     "traceback": [
      "\u001b[1;31m---------------------------------------------------------------------------\u001b[0m",
      "\u001b[1;31mKeyboardInterrupt\u001b[0m                         Traceback (most recent call last)",
      "\u001b[1;32m<ipython-input-150-5438fb4f3bd7>\u001b[0m in \u001b[0;36m<module>\u001b[1;34m\u001b[0m\n\u001b[0;32m      7\u001b[0m             \u001b[0mtotal\u001b[0m \u001b[1;33m=\u001b[0m \u001b[1;36m0\u001b[0m\u001b[1;33m\u001b[0m\u001b[1;33m\u001b[0m\u001b[0m\n\u001b[0;32m      8\u001b[0m             \u001b[1;32mfor\u001b[0m \u001b[1;33m(\u001b[0m\u001b[0msp\u001b[0m\u001b[1;33m,\u001b[0m \u001b[0mr\u001b[0m\u001b[1;33m)\u001b[0m \u001b[1;32min\u001b[0m \u001b[0mp\u001b[0m\u001b[1;33m[\u001b[0m\u001b[1;33m(\u001b[0m\u001b[0ms1\u001b[0m\u001b[1;33m,\u001b[0m \u001b[0ms2\u001b[0m\u001b[1;33m)\u001b[0m\u001b[1;33m]\u001b[0m\u001b[1;33m[\u001b[0m\u001b[0ma\u001b[0m\u001b[1;33m]\u001b[0m\u001b[1;33m:\u001b[0m\u001b[1;33m\u001b[0m\u001b[1;33m\u001b[0m\u001b[0m\n\u001b[1;32m----> 9\u001b[1;33m                 \u001b[0mtotal\u001b[0m \u001b[1;33m+=\u001b[0m \u001b[0mp\u001b[0m\u001b[1;33m[\u001b[0m\u001b[1;33m(\u001b[0m\u001b[0ms1\u001b[0m\u001b[1;33m,\u001b[0m \u001b[0ms2\u001b[0m\u001b[1;33m)\u001b[0m\u001b[1;33m]\u001b[0m\u001b[1;33m[\u001b[0m\u001b[0ma\u001b[0m\u001b[1;33m]\u001b[0m\u001b[1;33m[\u001b[0m\u001b[1;33m(\u001b[0m\u001b[0msp\u001b[0m\u001b[1;33m,\u001b[0m \u001b[0mr\u001b[0m\u001b[1;33m)\u001b[0m\u001b[1;33m]\u001b[0m \u001b[1;33m*\u001b[0m \u001b[1;33m(\u001b[0m\u001b[0mr\u001b[0m \u001b[1;33m+\u001b[0m \u001b[0mgamma\u001b[0m \u001b[1;33m*\u001b[0m \u001b[0mv\u001b[0m\u001b[1;33m[\u001b[0m\u001b[0msp\u001b[0m\u001b[1;33m[\u001b[0m\u001b[1;36m0\u001b[0m\u001b[1;33m]\u001b[0m\u001b[1;33m,\u001b[0m \u001b[0msp\u001b[0m\u001b[1;33m[\u001b[0m\u001b[1;36m1\u001b[0m\u001b[1;33m]\u001b[0m\u001b[1;33m]\u001b[0m\u001b[1;33m)\u001b[0m\u001b[1;33m\u001b[0m\u001b[1;33m\u001b[0m\u001b[0m\n\u001b[0m\u001b[0;32m     10\u001b[0m             \u001b[0mmax_action_return\u001b[0m \u001b[1;33m=\u001b[0m \u001b[0mmax\u001b[0m\u001b[1;33m(\u001b[0m\u001b[0mmax_action_return\u001b[0m\u001b[1;33m,\u001b[0m \u001b[0mtotal\u001b[0m\u001b[1;33m)\u001b[0m\u001b[1;33m\u001b[0m\u001b[1;33m\u001b[0m\u001b[0m\n\u001b[0;32m     11\u001b[0m         \u001b[1;31m# record largest dv in each epoch\u001b[0m\u001b[1;33m\u001b[0m\u001b[1;33m\u001b[0m\u001b[1;33m\u001b[0m\u001b[0m\n",
      "\u001b[1;31mKeyboardInterrupt\u001b[0m: "
     ]
    }
   ],
   "source": [
    "# Value Iteration\n",
    "for epoch in tqdm(range(epochs)):\n",
    "    dv = -1\n",
    "    for (s1, s2) in states_to_iter:\n",
    "        max_action_return = 0\n",
    "        for a in range(-5, 6):\n",
    "            total = 0\n",
    "            for (sp, r) in p[(s1, s2)][a]:\n",
    "                total += p[(s1, s2)][a][(sp, r)] * (r + gamma * v[sp[0], sp[1]])\n",
    "            max_action_return = max(max_action_return, total)\n",
    "        # record largest dv in each epoch\n",
    "        dv = max(dv, abs(max_action_return - v[s1, s2]))\n",
    "        v[s1, s2] = max_action_return\n",
    "    print(\"Epoch {} , loss: {}\".format(epoch, dv))\n",
    "    dv_history.append(dv)"
   ]
  },
  {
   "cell_type": "code",
   "execution_count": 160,
   "metadata": {},
   "outputs": [
    {
     "data": {
      "text/plain": [
       "<AxesSubplot:title={'center':'Value function convergence'}, xlabel='Epoch', ylabel='Loss'>"
      ]
     },
     "execution_count": 160,
     "metadata": {},
     "output_type": "execute_result"
    },
    {
     "data": {
      "image/png": "[encoded data removed]",
      "text/plain": [
       "<Figure size 432x288 with 1 Axes>"
      ]
     },
     "metadata": {
      "needs_background": "light"
     },
     "output_type": "display_data"
    }
   ],
   "source": [
    "pd.DataFrame({\"Value function delta\": dv_history}).plot(ylabel=\"Loss\", xlabel=\"Epoch\", title=\"Value function convergence\")"
   ]
  },
  {
   "cell_type": "code",
   "execution_count": 152,
   "metadata": {},
   "outputs": [],
   "source": [
    "# Compute policy\n",
    "pi = np.zeros((21, 21))\n",
    "for (s1, s2) in states_to_iter:\n",
    "    max_action_return = 0\n",
    "    best_action = 0\n",
    "    for a in range(-5, 6):\n",
    "        total = 0\n",
    "        for (sp, r) in p[(s1, s2)][a]:\n",
    "            total += p[(s1, s2)][a][(sp, r)] * (r + gamma * v[sp[0], sp[1]])\n",
    "        if total > max_action_return:  \n",
    "            max_action_return = total\n",
    "            best_action = a\n",
    "    pi[s1, s2] = best_action"
   ]
  },
  {
   "cell_type": "code",
   "execution_count": 153,
   "metadata": {},
   "outputs": [
    {
     "data": {
      "text/plain": [
       "<Figure size 3600x3600 with 0 Axes>"
      ]
     },
     "metadata": {},
     "output_type": "display_data"
    },
    {
     "data": {
      "image/png": "[encoded data removed]",
      "text/plain": [
       "<Figure size 288x288 with 1 Axes>"
      ]
     },
     "metadata": {
      "needs_background": "light"
     },
     "output_type": "display_data"
    }
   ],
   "source": [
    "# Plot contour of Policy\n",
    "pi_int = pi.astype(np.int)\n",
    "fig=plt.figure(figsize=(50, 50))\n",
    "\n",
    "plt.matshow(pi_int, cmap=plt.cm.Blues)\n",
    "for i in range(21):\n",
    "    for j in range(21):\n",
    "        c = pi_int[i, j]\n",
    "        plt.text(i, j, str(c), va='center', ha='center')"
   ]
  },
  {
   "cell_type": "code",
   "execution_count": 159,
   "metadata": {},
   "outputs": [
    {
     "data": {
      "image/png": "[encoded data removed]",
      "text/plain": [
       "<Figure size 432x288 with 2 Axes>"
      ]
     },
     "metadata": {
      "needs_background": "light"
     },
     "output_type": "display_data"
    }
   ],
   "source": [
    "# Visualize value function V\n",
    "from mpl_toolkits.mplot3d import Axes3D\n",
    "\n",
    "S1 = np.arange(0, 21)\n",
    "S2 = np.arange(0, 21)\n",
    "X, Y = np.meshgrid(S1, S2)\n",
    "fig = plt.figure()\n",
    "ax = fig.gca(projection='3d')\n",
    "surf = ax.plot_surface(X, Y, v, rstride=1, cstride=1, cmap=plt.cm.Blues, linewidth=0, antialiased=False)\n",
    "\n",
    "fig.colorbar(surf, shrink=0.5, aspect=5)\n",
    "plt.show()"
   ]
  },
  {
   "cell_type": "code",
   "execution_count": null,
   "metadata": {},
   "outputs": [],
   "source": []
  }
 ],
 "metadata": {
  "kernelspec": {
   "display_name": "Python 3 (ipykernel)",
   "language": "python",
   "name": "python3"
  },
  "language_info": {
   "codemirror_mode": {
    "name": "ipython",
    "version": 3
   },
   "file_extension": ".py",
   "mimetype": "text/x-python",
   "name": "python",
   "nbconvert_exporter": "python",
   "pygments_lexer": "ipython3",
   "version": "3.8.5"
  }
 },
 "nbformat": 4,
 "nbformat_minor": 4
}
